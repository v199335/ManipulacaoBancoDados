{
  "nbformat": 4,
  "nbformat_minor": 0,
  "metadata": {
    "colab": {
      "provenance": []
    },
    "kernelspec": {
      "name": "python3",
      "display_name": "Python 3"
    },
    "language_info": {
      "name": "python"
    }
  },
  "cells": [
    {
      "cell_type": "code",
      "execution_count": 1,
      "metadata": {
        "id": "2vvnExZoNfMB"
      },
      "outputs": [],
      "source": [
        "#Victor de Lima Souza 199335\n",
        "\n",
        "import polars as pl\n",
        "import sqlite3"
      ]
    },
    {
      "cell_type": "code",
      "source": [
        "conn = sqlite3.connect('data.db')\n",
        "cursor = conn.cursor()"
      ],
      "metadata": {
        "id": "rJwNlYXeNxEJ"
      },
      "execution_count": 2,
      "outputs": []
    },
    {
      "cell_type": "code",
      "source": [
        "cursor.execute('''\n",
        "CREATE TABLE vendas (\n",
        "    id INTEGER PRIMARY KEY,\n",
        "    vendedor TEXT,\n",
        "    produto TEXT,\n",
        "    valor REAL,\n",
        "    data_venda DATE\n",
        ")\n",
        "''')"
      ],
      "metadata": {
        "colab": {
          "base_uri": "https://localhost:8080/"
        },
        "id": "wMDVjN6AN1WI",
        "outputId": "fccd853b-4666-4628-8bfc-f0100637bd2a"
      },
      "execution_count": 3,
      "outputs": [
        {
          "output_type": "execute_result",
          "data": {
            "text/plain": [
              "<sqlite3.Cursor at 0x78d65123ae40>"
            ]
          },
          "metadata": {},
          "execution_count": 3
        }
      ]
    },
    {
      "cell_type": "code",
      "source": [
        "cursor.execute('''\n",
        "INSERT INTO vendas (vendedor, produto, valor, data_venda)\n",
        "VALUES\n",
        "    ('Ana', 'Produto A', 120.5, '2024-09-01'),\n",
        "    ('Carlos', 'Produto B', 200.0, '2024-10-02'),\n",
        "    ('Ana', 'Produto C', 150.0, '2024-09-03'),\n",
        "    ('Bruno', 'Produto A', 300.0, '2024-11-04'),\n",
        "    ('Carlos', 'Produto C', 100.0, '2024-10-05');\n",
        "''')\n",
        "conn.commit()"
      ],
      "metadata": {
        "id": "bZHKFPvpN2LH"
      },
      "execution_count": 4,
      "outputs": []
    },
    {
      "cell_type": "code",
      "source": [
        "cursor.execute(\"SELECT * FROM vendas\")\n",
        "rows = cursor.fetchall()\n",
        "for row in rows:\n",
        "  print(row)"
      ],
      "metadata": {
        "colab": {
          "base_uri": "https://localhost:8080/"
        },
        "id": "PnE2gGswN6jw",
        "outputId": "e1807c1d-ae0e-4265-dc87-451f74a78aed"
      },
      "execution_count": 5,
      "outputs": [
        {
          "output_type": "stream",
          "name": "stdout",
          "text": [
            "(1, 'Ana', 'Produto A', 120.5, '2024-09-01')\n",
            "(2, 'Carlos', 'Produto B', 200.0, '2024-10-02')\n",
            "(3, 'Ana', 'Produto C', 150.0, '2024-09-03')\n",
            "(4, 'Bruno', 'Produto A', 300.0, '2024-11-04')\n",
            "(5, 'Carlos', 'Produto C', 100.0, '2024-10-05')\n"
          ]
        }
      ]
    },
    {
      "cell_type": "code",
      "source": [
        "import polars as pl\n",
        "dados = pl.read_database(\"SELECT * FROM vendas\", conn)\n",
        "print(dados)"
      ],
      "metadata": {
        "colab": {
          "base_uri": "https://localhost:8080/"
        },
        "id": "85VwyWtnN8RB",
        "outputId": "33764792-4937-4eda-f61a-668d39ea385b"
      },
      "execution_count": 6,
      "outputs": [
        {
          "output_type": "stream",
          "name": "stdout",
          "text": [
            "shape: (5, 5)\n",
            "┌─────┬──────────┬───────────┬───────┬────────────┐\n",
            "│ id  ┆ vendedor ┆ produto   ┆ valor ┆ data_venda │\n",
            "│ --- ┆ ---      ┆ ---       ┆ ---   ┆ ---        │\n",
            "│ i64 ┆ str      ┆ str       ┆ f64   ┆ str        │\n",
            "╞═════╪══════════╪═══════════╪═══════╪════════════╡\n",
            "│ 1   ┆ Ana      ┆ Produto A ┆ 120.5 ┆ 2024-09-01 │\n",
            "│ 2   ┆ Carlos   ┆ Produto B ┆ 200.0 ┆ 2024-10-02 │\n",
            "│ 3   ┆ Ana      ┆ Produto C ┆ 150.0 ┆ 2024-09-03 │\n",
            "│ 4   ┆ Bruno    ┆ Produto A ┆ 300.0 ┆ 2024-11-04 │\n",
            "│ 5   ┆ Carlos   ┆ Produto C ┆ 100.0 ┆ 2024-10-05 │\n",
            "└─────┴──────────┴───────────┴───────┴────────────┘\n"
          ]
        }
      ]
    },
    {
      "cell_type": "code",
      "source": [
        "vendas_total = pl.read_database('''\n",
        "   SELECT vendedor, SUM(valor) as total_vendas\n",
        "   FROM vendas\n",
        "   GROUP BY vendedor;\n",
        "''', conn)\n",
        "print(vendas_total)"
      ],
      "metadata": {
        "colab": {
          "base_uri": "https://localhost:8080/"
        },
        "id": "AySWHjz2OA0v",
        "outputId": "5a7b666c-d281-41f5-b50b-3e1b6085ce67"
      },
      "execution_count": 7,
      "outputs": [
        {
          "output_type": "stream",
          "name": "stdout",
          "text": [
            "shape: (3, 2)\n",
            "┌──────────┬──────────────┐\n",
            "│ vendedor ┆ total_vendas │\n",
            "│ ---      ┆ ---          │\n",
            "│ str      ┆ f64          │\n",
            "╞══════════╪══════════════╡\n",
            "│ Ana      ┆ 270.5        │\n",
            "│ Bruno    ┆ 300.0        │\n",
            "│ Carlos   ┆ 300.0        │\n",
            "└──────────┴──────────────┘\n"
          ]
        }
      ]
    },
    {
      "cell_type": "code",
      "source": [
        "vendas_medias = pl.read_database('''\n",
        "   SELECT vendedor, AVG(valor) as total_vendas\n",
        "   FROM vendas\n",
        "   GROUP BY vendedor;\n",
        "''', conn)\n",
        "print(vendas_medias)"
      ],
      "metadata": {
        "colab": {
          "base_uri": "https://localhost:8080/"
        },
        "id": "HNN7dMu9OCzw",
        "outputId": "2ea4e08b-9cf6-4cdf-e5fe-0aa11a0f0b1c"
      },
      "execution_count": 8,
      "outputs": [
        {
          "output_type": "stream",
          "name": "stdout",
          "text": [
            "shape: (3, 2)\n",
            "┌──────────┬──────────────┐\n",
            "│ vendedor ┆ total_vendas │\n",
            "│ ---      ┆ ---          │\n",
            "│ str      ┆ f64          │\n",
            "╞══════════╪══════════════╡\n",
            "│ Ana      ┆ 135.25       │\n",
            "│ Bruno    ┆ 300.0        │\n",
            "│ Carlos   ┆ 150.0        │\n",
            "└──────────┴──────────────┘\n"
          ]
        }
      ]
    },
    {
      "cell_type": "code",
      "source": [
        "vendas_comb = pl.read_database(\"\"\"\n",
        "SELECT vendedor,\n",
        "       COUNT(*) as numero_vendas,\n",
        "       SUM(valor) as total_vendas,\n",
        "       AVG(valor) as media_vendas\n",
        "FROM vendas\n",
        "GROUP BY vendedor;\n",
        "\"\"\", conn)\n",
        "\n",
        "print(vendas_comb)"
      ],
      "metadata": {
        "colab": {
          "base_uri": "https://localhost:8080/"
        },
        "id": "A7BU0hEFOE1g",
        "outputId": "ab7a5917-b3da-447e-bf15-f3dd62a77474"
      },
      "execution_count": 10,
      "outputs": [
        {
          "output_type": "stream",
          "name": "stdout",
          "text": [
            "shape: (3, 4)\n",
            "┌──────────┬───────────────┬──────────────┬──────────────┐\n",
            "│ vendedor ┆ numero_vendas ┆ total_vendas ┆ media_vendas │\n",
            "│ ---      ┆ ---           ┆ ---          ┆ ---          │\n",
            "│ str      ┆ i64           ┆ f64          ┆ f64          │\n",
            "╞══════════╪═══════════════╪══════════════╪══════════════╡\n",
            "│ Ana      ┆ 2             ┆ 270.5        ┆ 135.25       │\n",
            "│ Bruno    ┆ 1             ┆ 300.0        ┆ 300.0        │\n",
            "│ Carlos   ┆ 2             ┆ 300.0        ┆ 150.0        │\n",
            "└──────────┴───────────────┴──────────────┴──────────────┘\n"
          ]
        }
      ]
    },
    {
      "cell_type": "code",
      "source": [
        "ticket_alto = pl.read_database(\"\"\"\n",
        "SELECT * FROM vendas WHERE valor >= 200\n",
        "\"\"\", conn)\n",
        "print(ticket_alto)"
      ],
      "metadata": {
        "colab": {
          "base_uri": "https://localhost:8080/"
        },
        "id": "xCr7yL_fOJvg",
        "outputId": "da849ad7-db9e-4d6f-92e5-1cd9e734daf4"
      },
      "execution_count": 11,
      "outputs": [
        {
          "output_type": "stream",
          "name": "stdout",
          "text": [
            "shape: (2, 5)\n",
            "┌─────┬──────────┬───────────┬───────┬────────────┐\n",
            "│ id  ┆ vendedor ┆ produto   ┆ valor ┆ data_venda │\n",
            "│ --- ┆ ---      ┆ ---       ┆ ---   ┆ ---        │\n",
            "│ i64 ┆ str      ┆ str       ┆ f64   ┆ str        │\n",
            "╞═════╪══════════╪═══════════╪═══════╪════════════╡\n",
            "│ 2   ┆ Carlos   ┆ Produto B ┆ 200.0 ┆ 2024-10-02 │\n",
            "│ 4   ┆ Bruno    ┆ Produto A ┆ 300.0 ┆ 2024-11-04 │\n",
            "└─────┴──────────┴───────────┴───────┴────────────┘\n"
          ]
        }
      ]
    },
    {
      "cell_type": "code",
      "source": [
        "vendas_mensais = pl.read_database(\"\"\"\n",
        "SELECT strftime('%Y-%m', data_venda) AS mes, SUM(valor) AS total_vendas\n",
        "FROM vendas GROUP BY mes ORDER BY mes\n",
        "\"\"\", conn)\n",
        "print(vendas_mensais)"
      ],
      "metadata": {
        "colab": {
          "base_uri": "https://localhost:8080/"
        },
        "id": "4iJ2_Vo_OL1a",
        "outputId": "afcaaa15-ad03-4070-a17f-2a25453b45f9"
      },
      "execution_count": 12,
      "outputs": [
        {
          "output_type": "stream",
          "name": "stdout",
          "text": [
            "shape: (3, 2)\n",
            "┌─────────┬──────────────┐\n",
            "│ mes     ┆ total_vendas │\n",
            "│ ---     ┆ ---          │\n",
            "│ str     ┆ f64          │\n",
            "╞═════════╪══════════════╡\n",
            "│ 2024-09 ┆ 270.5        │\n",
            "│ 2024-10 ┆ 300.0        │\n",
            "│ 2024-11 ┆ 300.0        │\n",
            "└─────────┴──────────────┘\n"
          ]
        }
      ]
    },
    {
      "cell_type": "code",
      "source": [
        "cursor.execute('''\n",
        "CREATE TABLE IF NOT EXISTS produtos (\n",
        "    id INTEGER PRIMARY KEY,\n",
        "    nome TEXT NOT NULL,\n",
        "    categoria TEXT NOT NULL,\n",
        "    preco REAL NOT NULL,\n",
        "    estoque INTEGER NOT NULL\n",
        ");\n",
        "''')\n",
        "cursor.execute('''\n",
        "INSERT INTO produtos (nome, categoria, preco, estoque) VALUES\n",
        "    ('Produto A', 'Categoria 1', 100.0, 50),\n",
        "    ('Produto B', 'Categoria 2', 150.0, 30),\n",
        "    ('Produto C', 'Categoria 1', 200.0, 20),\n",
        "    ('Produto D', 'Categoria 2', 250.0, 10),\n",
        "    ('Produto E', 'Categoria 3', 300.0, 0);\n",
        "''')\n",
        "conn.commit()\n",
        "\n",
        "prods = pl.read_database(\"SELECT * FROM produtos\", conn)\n",
        "print(prods)"
      ],
      "metadata": {
        "colab": {
          "base_uri": "https://localhost:8080/"
        },
        "id": "TzekOQNuONfY",
        "outputId": "07f6e880-05e4-4712-a950-1276cd79cad7"
      },
      "execution_count": 13,
      "outputs": [
        {
          "output_type": "stream",
          "name": "stdout",
          "text": [
            "shape: (5, 5)\n",
            "┌─────┬───────────┬─────────────┬───────┬─────────┐\n",
            "│ id  ┆ nome      ┆ categoria   ┆ preco ┆ estoque │\n",
            "│ --- ┆ ---       ┆ ---         ┆ ---   ┆ ---     │\n",
            "│ i64 ┆ str       ┆ str         ┆ f64   ┆ i64     │\n",
            "╞═════╪═══════════╪═════════════╪═══════╪═════════╡\n",
            "│ 1   ┆ Produto A ┆ Categoria 1 ┆ 100.0 ┆ 50      │\n",
            "│ 2   ┆ Produto B ┆ Categoria 2 ┆ 150.0 ┆ 30      │\n",
            "│ 3   ┆ Produto C ┆ Categoria 1 ┆ 200.0 ┆ 20      │\n",
            "│ 4   ┆ Produto D ┆ Categoria 2 ┆ 250.0 ┆ 10      │\n",
            "│ 5   ┆ Produto E ┆ Categoria 3 ┆ 300.0 ┆ 0       │\n",
            "└─────┴───────────┴─────────────┴───────┴─────────┘\n"
          ]
        }
      ]
    },
    {
      "cell_type": "code",
      "source": [
        "lucros = pl.read_database(\"\"\"\n",
        "SELECT produto, valor AS compra, preco AS venda, preco-valor AS lucro\n",
        "FROM vendas\n",
        "INNER JOIN produtos ON vendas.produto = produtos.nome\n",
        "\"\"\", conn)\n",
        "print(lucros)"
      ],
      "metadata": {
        "colab": {
          "base_uri": "https://localhost:8080/"
        },
        "id": "rnEkiti7OSfI",
        "outputId": "9c36322c-e360-40aa-fa95-f4e8610f84aa"
      },
      "execution_count": 14,
      "outputs": [
        {
          "output_type": "stream",
          "name": "stdout",
          "text": [
            "shape: (5, 4)\n",
            "┌───────────┬────────┬───────┬────────┐\n",
            "│ produto   ┆ compra ┆ venda ┆ lucro  │\n",
            "│ ---       ┆ ---    ┆ ---   ┆ ---    │\n",
            "│ str       ┆ f64    ┆ f64   ┆ f64    │\n",
            "╞═══════════╪════════╪═══════╪════════╡\n",
            "│ Produto A ┆ 120.5  ┆ 100.0 ┆ -20.5  │\n",
            "│ Produto B ┆ 200.0  ┆ 150.0 ┆ -50.0  │\n",
            "│ Produto C ┆ 150.0  ┆ 200.0 ┆ 50.0   │\n",
            "│ Produto A ┆ 300.0  ┆ 100.0 ┆ -200.0 │\n",
            "│ Produto C ┆ 100.0  ┆ 200.0 ┆ 100.0  │\n",
            "└───────────┴────────┴───────┴────────┘\n"
          ]
        }
      ]
    },
    {
      "cell_type": "code",
      "source": [
        "lucro_medio = pl.read_database(\"\"\"\n",
        "SELECT vendedor, produto, AVG(preco-valor) AS lucro_medio\n",
        "FROM vendas\n",
        "INNER JOIN produtos ON vendas.produto = produtos.nome\n",
        "GROUP BY vendedor\n",
        "\"\"\", conn)\n",
        "print(lucro_medio)"
      ],
      "metadata": {
        "colab": {
          "base_uri": "https://localhost:8080/"
        },
        "id": "Du2Mc4y6OVdA",
        "outputId": "106e142f-a097-4be2-daed-d0b0cdb4cf0a"
      },
      "execution_count": 15,
      "outputs": [
        {
          "output_type": "stream",
          "name": "stdout",
          "text": [
            "shape: (3, 3)\n",
            "┌──────────┬───────────┬─────────────┐\n",
            "│ vendedor ┆ produto   ┆ lucro_medio │\n",
            "│ ---      ┆ ---       ┆ ---         │\n",
            "│ str      ┆ str       ┆ f64         │\n",
            "╞══════════╪═══════════╪═════════════╡\n",
            "│ Ana      ┆ Produto A ┆ 14.75       │\n",
            "│ Bruno    ┆ Produto A ┆ -200.0      │\n",
            "│ Carlos   ┆ Produto B ┆ 25.0        │\n",
            "└──────────┴───────────┴─────────────┘\n"
          ]
        }
      ]
    },
    {
      "cell_type": "code",
      "source": [
        "conn.close()"
      ],
      "metadata": {
        "id": "MSeVntNROYmQ"
      },
      "execution_count": 16,
      "outputs": []
    },
    {
      "cell_type": "code",
      "source": [
        "from datetime import datetime\n",
        "import pytz\n",
        "\n",
        "brasilia_timezone = pytz.timezone('America/Sao_Paulo')\n",
        "now_brasilia = datetime.now(brasilia_timezone)\n",
        "\n",
        "print(now_brasilia.strftime('%Y-%m-%d %H:%M:%S %Z%z'))"
      ],
      "metadata": {
        "colab": {
          "base_uri": "https://localhost:8080/"
        },
        "id": "Rn4fFgOHOe5Q",
        "outputId": "2c6b1169-be65-41bd-c520-f07530eaa65e"
      },
      "execution_count": 17,
      "outputs": [
        {
          "output_type": "stream",
          "name": "stdout",
          "text": [
            "2025-10-09 10:48:19 -03-0300\n"
          ]
        }
      ]
    }
  ]
}