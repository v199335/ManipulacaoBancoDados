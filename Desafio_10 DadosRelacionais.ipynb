{
  "nbformat": 4,
  "nbformat_minor": 0,
  "metadata": {
    "colab": {
      "provenance": []
    },
    "kernelspec": {
      "name": "python3",
      "display_name": "Python 3"
    },
    "language_info": {
      "name": "python"
    }
  },
  "cells": [
    {
      "cell_type": "code",
      "execution_count": 1,
      "metadata": {
        "colab": {
          "base_uri": "https://localhost:8080/"
        },
        "id": "8fhcvTFOG99L",
        "outputId": "0a7dccf4-d738-42a5-b3de-d46c4afd5e65"
      },
      "outputs": [
        {
          "output_type": "stream",
          "name": "stdout",
          "text": [
            "shape: (4, 2)\n",
            "┌────────────┬────────┐\n",
            "│ cliente_id ┆ nome   │\n",
            "│ ---        ┆ ---    │\n",
            "│ i64        ┆ str    │\n",
            "╞════════════╪════════╡\n",
            "│ 1          ┆ Ana    │\n",
            "│ 2          ┆ Bruno  │\n",
            "│ 3          ┆ Clara  │\n",
            "│ 4          ┆ Daniel │\n",
            "└────────────┴────────┘\n"
          ]
        }
      ],
      "source": [
        "import polars as pl\n",
        "\n",
        "# Criando DataFrames\n",
        "clientes = pl.DataFrame({\n",
        "    \"cliente_id\": [1, 2, 3, 4],\n",
        "    \"nome\": [\"Ana\", \"Bruno\", \"Clara\", \"Daniel\"]\n",
        "})\n",
        "\n",
        "print(clientes)"
      ]
    },
    {
      "cell_type": "code",
      "source": [
        "pedidos = pl.DataFrame({\n",
        "    \"pedido_id\": [101, 102, 103, 104, 105],\n",
        "    \"cliente_id\": [1, 2, 3, 1, 5],\n",
        "    \"valor\": [100.50, 250.75, 75.00, 130.00, 79.00]\n",
        "})\n",
        "\n",
        "print(pedidos)"
      ],
      "metadata": {
        "colab": {
          "base_uri": "https://localhost:8080/"
        },
        "id": "M27qY157HE8u",
        "outputId": "b049d109-230d-4438-f4be-b7a7883c93c8"
      },
      "execution_count": 2,
      "outputs": [
        {
          "output_type": "stream",
          "name": "stdout",
          "text": [
            "shape: (5, 3)\n",
            "┌───────────┬────────────┬────────┐\n",
            "│ pedido_id ┆ cliente_id ┆ valor  │\n",
            "│ ---       ┆ ---        ┆ ---    │\n",
            "│ i64       ┆ i64        ┆ f64    │\n",
            "╞═══════════╪════════════╪════════╡\n",
            "│ 101       ┆ 1          ┆ 100.5  │\n",
            "│ 102       ┆ 2          ┆ 250.75 │\n",
            "│ 103       ┆ 3          ┆ 75.0   │\n",
            "│ 104       ┆ 1          ┆ 130.0  │\n",
            "│ 105       ┆ 5          ┆ 79.0   │\n",
            "└───────────┴────────────┴────────┘\n"
          ]
        }
      ]
    },
    {
      "cell_type": "code",
      "source": [
        "res_ij = clientes.join(pedidos, on=\"cliente_id\", how=\"inner\")\n",
        "print(res_ij)"
      ],
      "metadata": {
        "colab": {
          "base_uri": "https://localhost:8080/"
        },
        "id": "H6WNiVWrHIVm",
        "outputId": "7624306b-8c30-4cb2-bf2f-ed4685cc49a9"
      },
      "execution_count": 3,
      "outputs": [
        {
          "output_type": "stream",
          "name": "stdout",
          "text": [
            "shape: (4, 4)\n",
            "┌────────────┬───────┬───────────┬────────┐\n",
            "│ cliente_id ┆ nome  ┆ pedido_id ┆ valor  │\n",
            "│ ---        ┆ ---   ┆ ---       ┆ ---    │\n",
            "│ i64        ┆ str   ┆ i64       ┆ f64    │\n",
            "╞════════════╪═══════╪═══════════╪════════╡\n",
            "│ 1          ┆ Ana   ┆ 101       ┆ 100.5  │\n",
            "│ 2          ┆ Bruno ┆ 102       ┆ 250.75 │\n",
            "│ 3          ┆ Clara ┆ 103       ┆ 75.0   │\n",
            "│ 1          ┆ Ana   ┆ 104       ┆ 130.0  │\n",
            "└────────────┴───────┴───────────┴────────┘\n"
          ]
        }
      ]
    },
    {
      "cell_type": "code",
      "source": [
        "res_lj = clientes.join(pedidos, on=\"cliente_id\", how=\"left\")\n",
        "print(res_lj)"
      ],
      "metadata": {
        "colab": {
          "base_uri": "https://localhost:8080/"
        },
        "id": "6TZmbiK8HL1e",
        "outputId": "f02796b5-f2d8-4833-a3a1-cd6ebb511833"
      },
      "execution_count": 4,
      "outputs": [
        {
          "output_type": "stream",
          "name": "stdout",
          "text": [
            "shape: (5, 4)\n",
            "┌────────────┬────────┬───────────┬────────┐\n",
            "│ cliente_id ┆ nome   ┆ pedido_id ┆ valor  │\n",
            "│ ---        ┆ ---    ┆ ---       ┆ ---    │\n",
            "│ i64        ┆ str    ┆ i64       ┆ f64    │\n",
            "╞════════════╪════════╪═══════════╪════════╡\n",
            "│ 1          ┆ Ana    ┆ 101       ┆ 100.5  │\n",
            "│ 1          ┆ Ana    ┆ 104       ┆ 130.0  │\n",
            "│ 2          ┆ Bruno  ┆ 102       ┆ 250.75 │\n",
            "│ 3          ┆ Clara  ┆ 103       ┆ 75.0   │\n",
            "│ 4          ┆ Daniel ┆ null      ┆ null   │\n",
            "└────────────┴────────┴───────────┴────────┘\n"
          ]
        }
      ]
    },
    {
      "cell_type": "code",
      "source": [
        "res_rj = clientes.join(pedidos, on=\"cliente_id\", how=\"right\")\n",
        "print(res_rj)"
      ],
      "metadata": {
        "colab": {
          "base_uri": "https://localhost:8080/"
        },
        "id": "NBvKyco6HQhO",
        "outputId": "91c4aa46-a29f-4146-90f8-3e1c219ed4ca"
      },
      "execution_count": 5,
      "outputs": [
        {
          "output_type": "stream",
          "name": "stdout",
          "text": [
            "shape: (5, 4)\n",
            "┌───────┬───────────┬────────────┬────────┐\n",
            "│ nome  ┆ pedido_id ┆ cliente_id ┆ valor  │\n",
            "│ ---   ┆ ---       ┆ ---        ┆ ---    │\n",
            "│ str   ┆ i64       ┆ i64        ┆ f64    │\n",
            "╞═══════╪═══════════╪════════════╪════════╡\n",
            "│ Ana   ┆ 101       ┆ 1          ┆ 100.5  │\n",
            "│ Bruno ┆ 102       ┆ 2          ┆ 250.75 │\n",
            "│ Clara ┆ 103       ┆ 3          ┆ 75.0   │\n",
            "│ Ana   ┆ 104       ┆ 1          ┆ 130.0  │\n",
            "│ null  ┆ 105       ┆ 5          ┆ 79.0   │\n",
            "└───────┴───────────┴────────────┴────────┘\n"
          ]
        }
      ]
    },
    {
      "cell_type": "code",
      "source": [
        "res_oj = clientes.join(pedidos, on=\"cliente_id\", how=\"full\")\n",
        "print(res_oj)"
      ],
      "metadata": {
        "colab": {
          "base_uri": "https://localhost:8080/"
        },
        "id": "kYmOIxdXHSF2",
        "outputId": "cf773dbf-da5b-41dc-a38d-d15c209f06ad"
      },
      "execution_count": 6,
      "outputs": [
        {
          "output_type": "stream",
          "name": "stdout",
          "text": [
            "shape: (6, 5)\n",
            "┌────────────┬────────┬───────────┬──────────────────┬────────┐\n",
            "│ cliente_id ┆ nome   ┆ pedido_id ┆ cliente_id_right ┆ valor  │\n",
            "│ ---        ┆ ---    ┆ ---       ┆ ---              ┆ ---    │\n",
            "│ i64        ┆ str    ┆ i64       ┆ i64              ┆ f64    │\n",
            "╞════════════╪════════╪═══════════╪══════════════════╪════════╡\n",
            "│ 1          ┆ Ana    ┆ 101       ┆ 1                ┆ 100.5  │\n",
            "│ 2          ┆ Bruno  ┆ 102       ┆ 2                ┆ 250.75 │\n",
            "│ 3          ┆ Clara  ┆ 103       ┆ 3                ┆ 75.0   │\n",
            "│ 1          ┆ Ana    ┆ 104       ┆ 1                ┆ 130.0  │\n",
            "│ null       ┆ null   ┆ 105       ┆ 5                ┆ 79.0   │\n",
            "│ 4          ┆ Daniel ┆ null      ┆ null             ┆ null   │\n",
            "└────────────┴────────┴───────────┴──────────────────┴────────┘\n"
          ]
        },
        {
          "output_type": "stream",
          "name": "stderr",
          "text": [
            "/tmp/ipython-input-3166284463.py:1: DeprecationWarning: Use of `how='outer'` should be replaced with `how='full'`.\n",
            "  res_oj = clientes.join(pedidos, on=\"cliente_id\", how=\"outer\")\n"
          ]
        }
      ]
    },
    {
      "cell_type": "code",
      "source": [
        "res_cj = clientes.join(pedidos, how=\"cross\")\n",
        "print(res_cj)"
      ],
      "metadata": {
        "colab": {
          "base_uri": "https://localhost:8080/"
        },
        "id": "q_UsYAVpHlsO",
        "outputId": "6cb3583d-85ca-44f5-b10b-23a8c963228a"
      },
      "execution_count": 10,
      "outputs": [
        {
          "output_type": "stream",
          "name": "stdout",
          "text": [
            "shape: (20, 5)\n",
            "┌────────────┬────────┬───────────┬──────────────────┬────────┐\n",
            "│ cliente_id ┆ nome   ┆ pedido_id ┆ cliente_id_right ┆ valor  │\n",
            "│ ---        ┆ ---    ┆ ---       ┆ ---              ┆ ---    │\n",
            "│ i64        ┆ str    ┆ i64       ┆ i64              ┆ f64    │\n",
            "╞════════════╪════════╪═══════════╪══════════════════╪════════╡\n",
            "│ 1          ┆ Ana    ┆ 101       ┆ 1                ┆ 100.5  │\n",
            "│ 1          ┆ Ana    ┆ 102       ┆ 2                ┆ 250.75 │\n",
            "│ 1          ┆ Ana    ┆ 103       ┆ 3                ┆ 75.0   │\n",
            "│ 1          ┆ Ana    ┆ 104       ┆ 1                ┆ 130.0  │\n",
            "│ 1          ┆ Ana    ┆ 105       ┆ 5                ┆ 79.0   │\n",
            "│ …          ┆ …      ┆ …         ┆ …                ┆ …      │\n",
            "│ 4          ┆ Daniel ┆ 101       ┆ 1                ┆ 100.5  │\n",
            "│ 4          ┆ Daniel ┆ 102       ┆ 2                ┆ 250.75 │\n",
            "│ 4          ┆ Daniel ┆ 103       ┆ 3                ┆ 75.0   │\n",
            "│ 4          ┆ Daniel ┆ 104       ┆ 1                ┆ 130.0  │\n",
            "│ 4          ┆ Daniel ┆ 105       ┆ 5                ┆ 79.0   │\n",
            "└────────────┴────────┴───────────┴──────────────────┴────────┘\n"
          ]
        }
      ]
    },
    {
      "cell_type": "code",
      "source": [
        "res = res_ij.group_by([\"nome\", \"cliente_id\"]).agg(pl.col(\"valor\").mean())\n",
        "print(res)"
      ],
      "metadata": {
        "colab": {
          "base_uri": "https://localhost:8080/"
        },
        "id": "o0lOG34zH-7j",
        "outputId": "920549b2-6c38-4599-cdd3-3ad0bf585f41"
      },
      "execution_count": 11,
      "outputs": [
        {
          "output_type": "stream",
          "name": "stdout",
          "text": [
            "shape: (3, 3)\n",
            "┌───────┬────────────┬────────┐\n",
            "│ nome  ┆ cliente_id ┆ valor  │\n",
            "│ ---   ┆ ---        ┆ ---    │\n",
            "│ str   ┆ i64        ┆ f64    │\n",
            "╞═══════╪════════════╪════════╡\n",
            "│ Ana   ┆ 1          ┆ 115.25 │\n",
            "│ Bruno ┆ 2          ┆ 250.75 │\n",
            "│ Clara ┆ 3          ┆ 75.0   │\n",
            "└───────┴────────────┴────────┘\n"
          ]
        }
      ]
    },
    {
      "cell_type": "code",
      "source": [
        "res = (res_oj.with_columns(pl.col(\"valor\") > 100)\n",
        "       .group_by(\"nome\")\n",
        "       .agg(pl.col(\"valor\").sum()))\n",
        "print(res)"
      ],
      "metadata": {
        "colab": {
          "base_uri": "https://localhost:8080/"
        },
        "id": "VBSnm4XmIAdL",
        "outputId": "7b72b7f4-c0f4-44ac-803c-222fe7ec2421"
      },
      "execution_count": 12,
      "outputs": [
        {
          "output_type": "stream",
          "name": "stdout",
          "text": [
            "shape: (5, 2)\n",
            "┌────────┬───────┐\n",
            "│ nome   ┆ valor │\n",
            "│ ---    ┆ ---   │\n",
            "│ str    ┆ u32   │\n",
            "╞════════╪═══════╡\n",
            "│ Clara  ┆ 0     │\n",
            "│ Ana    ┆ 2     │\n",
            "│ Daniel ┆ 0     │\n",
            "│ null   ┆ 0     │\n",
            "│ Bruno  ┆ 1     │\n",
            "└────────┴───────┘\n"
          ]
        }
      ]
    },
    {
      "cell_type": "code",
      "source": [
        "vendas = pl.DataFrame({\n",
        "    \"id_venda\": [1, 2, 3],\n",
        "    \"id_cl\": [1, 2, 1],\n",
        "    \"id_prod\": [101, 102, 103],\n",
        "    \"qtde\": [2, 1, 1]\n",
        "})\n",
        "\n",
        "detalhes_pedidos = pl.DataFrame({\n",
        "    \"id_ped\": [201, 202, 203],\n",
        "    \"cl_id\": [1, 2, 1],\n",
        "    \"id_prod\": [101, 102, 104],\n",
        "    \"valor\": [50.00, 75.00, 100.00]\n",
        "})"
      ],
      "metadata": {
        "id": "roD4UV4uIEQ7"
      },
      "execution_count": 13,
      "outputs": []
    },
    {
      "cell_type": "code",
      "source": [
        "final = vendas.join(detalhes_pedidos,\n",
        "                    left_on = [\"id_cl\", \"id_prod\"],\n",
        "                    right_on = [\"cl_id\", \"id_prod\"],\n",
        "                    how = \"inner\")\n",
        "print(final)"
      ],
      "metadata": {
        "colab": {
          "base_uri": "https://localhost:8080/"
        },
        "id": "SQJ3wPjWIHF4",
        "outputId": "2df7ad26-7b25-459d-ff60-e3c9d33cf772"
      },
      "execution_count": 14,
      "outputs": [
        {
          "output_type": "stream",
          "name": "stdout",
          "text": [
            "shape: (2, 6)\n",
            "┌──────────┬───────┬─────────┬──────┬────────┬───────┐\n",
            "│ id_venda ┆ id_cl ┆ id_prod ┆ qtde ┆ id_ped ┆ valor │\n",
            "│ ---      ┆ ---   ┆ ---     ┆ ---  ┆ ---    ┆ ---   │\n",
            "│ i64      ┆ i64   ┆ i64     ┆ i64  ┆ i64    ┆ f64   │\n",
            "╞══════════╪═══════╪═════════╪══════╪════════╪═══════╡\n",
            "│ 1        ┆ 1     ┆ 101     ┆ 2    ┆ 201    ┆ 50.0  │\n",
            "│ 2        ┆ 2     ┆ 102     ┆ 1    ┆ 202    ┆ 75.0  │\n",
            "└──────────┴───────┴─────────┴──────┴────────┴───────┘\n"
          ]
        }
      ]
    },
    {
      "cell_type": "code",
      "metadata": {
        "colab": {
          "base_uri": "https://localhost:8080/"
        },
        "id": "39de2a34",
        "outputId": "80db285a-d90c-466f-888b-531602a134c0"
      },
      "source": [
        "!pip install pytz"
      ],
      "execution_count": 16,
      "outputs": [
        {
          "output_type": "stream",
          "name": "stdout",
          "text": [
            "Requirement already satisfied: pytz in /usr/local/lib/python3.12/dist-packages (2025.2)\n"
          ]
        }
      ]
    },
    {
      "cell_type": "code",
      "metadata": {
        "colab": {
          "base_uri": "https://localhost:8080/"
        },
        "id": "ec76c6d3",
        "outputId": "202a53a1-4deb-49f0-8d78-111d23477b07"
      },
      "source": [
        "from datetime import datetime\n",
        "import pytz\n",
        "\n",
        "# Define o fuso horário de Brasília\n",
        "brasilia_timezone = pytz.timezone('America/Sao_Paulo')\n",
        "\n",
        "# Obtém a data e hora atuais no fuso horário de Brasília\n",
        "now_brasilia = datetime.now(brasilia_timezone)\n",
        "\n",
        "# Imprime a data e hora com o fuso horário\n",
        "print(\"Data e hora atuais (Brasília):\", now_brasilia)\n",
        "\n",
        "# Opcional: Imprime em um formato específico\n",
        "print(\"Data e hora formatadas (Brasília):\", now_brasilia.strftime(\"%Y-%m-%d %H:%M:%S %Z%z\"))"
      ],
      "execution_count": 17,
      "outputs": [
        {
          "output_type": "stream",
          "name": "stdout",
          "text": [
            "Data e hora atuais (Brasília): 2025-10-02 10:36:27.394128-03:00\n",
            "Data e hora formatadas (Brasília): 2025-10-02 10:36:27 -03-0300\n"
          ]
        }
      ]
    }
  ]
}