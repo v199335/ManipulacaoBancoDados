{
  "nbformat": 4,
  "nbformat_minor": 0,
  "metadata": {
    "colab": {
      "provenance": []
    },
    "kernelspec": {
      "name": "python3",
      "display_name": "Python 3"
    },
    "language_info": {
      "name": "python"
    }
  },
  "cells": [
    {
      "cell_type": "code",
      "execution_count": 1,
      "metadata": {
        "colab": {
          "base_uri": "https://localhost:8080/",
          "height": 0
        },
        "id": "W663q8BjJpAT",
        "outputId": "a27bef7a-bcef-419b-96df-60a9b41b8105"
      },
      "outputs": [
        {
          "output_type": "stream",
          "name": "stdout",
          "text": [
            "Requirement already satisfied: polars in /usr/local/lib/python3.12/dist-packages (1.25.2)\n",
            "Collecting fastexcel\n",
            "  Downloading fastexcel-0.16.0-cp39-abi3-manylinux_2_17_x86_64.manylinux2014_x86_64.whl.metadata (7.0 kB)\n",
            "Downloading fastexcel-0.16.0-cp39-abi3-manylinux_2_17_x86_64.manylinux2014_x86_64.whl (3.3 MB)\n",
            "\u001b[2K   \u001b[90m━━━━━━━━━━━━━━━━━━━━━━━━━━━━━━━━━━━━━━━━\u001b[0m \u001b[32m3.3/3.3 MB\u001b[0m \u001b[31m42.1 MB/s\u001b[0m eta \u001b[36m0:00:00\u001b[0m\n",
            "\u001b[?25hInstalling collected packages: fastexcel\n",
            "Successfully installed fastexcel-0.16.0\n"
          ]
        }
      ],
      "source": [
        "!pip install polars\n",
        "!pip install fastexcel"
      ]
    },
    {
      "cell_type": "code",
      "source": [
        "import polars as pl"
      ],
      "metadata": {
        "id": "TeFGQa4IKUgp"
      },
      "execution_count": 2,
      "outputs": []
    },
    {
      "cell_type": "code",
      "source": [
        "aeroportos = pl.read_csv(\"airports.csv\",\n",
        "                         columns = [\"IATA_CODE\", \"CITY\", \"STATE\"])\n",
        "aeroportos.head(2)"
      ],
      "metadata": {
        "colab": {
          "base_uri": "https://localhost:8080/",
          "height": 161
        },
        "id": "rLH6CskkKVlR",
        "outputId": "486b2bd7-2210-40a4-9c4e-fa4146e7bebd"
      },
      "execution_count": 7,
      "outputs": [
        {
          "output_type": "execute_result",
          "data": {
            "text/plain": [
              "shape: (2, 3)\n",
              "┌───────────┬───────────┬───────┐\n",
              "│ IATA_CODE ┆ CITY      ┆ STATE │\n",
              "│ ---       ┆ ---       ┆ ---   │\n",
              "│ str       ┆ str       ┆ str   │\n",
              "╞═══════════╪═══════════╪═══════╡\n",
              "│ ABE       ┆ Allentown ┆ PA    │\n",
              "│ ABI       ┆ Abilene   ┆ TX    │\n",
              "└───────────┴───────────┴───────┘"
            ],
            "text/html": [
              "<div><style>\n",
              ".dataframe > thead > tr,\n",
              ".dataframe > tbody > tr {\n",
              "  text-align: right;\n",
              "  white-space: pre-wrap;\n",
              "}\n",
              "</style>\n",
              "<small>shape: (2, 3)</small><table border=\"1\" class=\"dataframe\"><thead><tr><th>IATA_CODE</th><th>CITY</th><th>STATE</th></tr><tr><td>str</td><td>str</td><td>str</td></tr></thead><tbody><tr><td>&quot;ABE&quot;</td><td>&quot;Allentown&quot;</td><td>&quot;PA&quot;</td></tr><tr><td>&quot;ABI&quot;</td><td>&quot;Abilene&quot;</td><td>&quot;TX&quot;</td></tr></tbody></table></div>"
            ]
          },
          "metadata": {},
          "execution_count": 7
        }
      ]
    },
    {
      "cell_type": "code",
      "source": [
        "wdi = pl.read_excel(\"WDIEXCEL.xlsx\", sheet_name = \"Country\",\n",
        "                    columns = [\"Short Name\", \"Region\"])\n",
        "wdi.head(2)"
      ],
      "metadata": {
        "colab": {
          "base_uri": "https://localhost:8080/",
          "height": 161
        },
        "id": "99YbO6ZmMlqW",
        "outputId": "96b34e93-3949-4076-c895-e42a4833ae05"
      },
      "execution_count": 19,
      "outputs": [
        {
          "output_type": "execute_result",
          "data": {
            "text/plain": [
              "shape: (2, 2)\n",
              "┌─────────────┬───────────────────────────┐\n",
              "│ Short Name  ┆ Region                    │\n",
              "│ ---         ┆ ---                       │\n",
              "│ str         ┆ str                       │\n",
              "╞═════════════╪═══════════════════════════╡\n",
              "│ Aruba       ┆ Latin America & Caribbean │\n",
              "│ Afghanistan ┆ South Asia                │\n",
              "└─────────────┴───────────────────────────┘"
            ],
            "text/html": [
              "<div><style>\n",
              ".dataframe > thead > tr,\n",
              ".dataframe > tbody > tr {\n",
              "  text-align: right;\n",
              "  white-space: pre-wrap;\n",
              "}\n",
              "</style>\n",
              "<small>shape: (2, 2)</small><table border=\"1\" class=\"dataframe\"><thead><tr><th>Short Name</th><th>Region</th></tr><tr><td>str</td><td>str</td></tr></thead><tbody><tr><td>&quot;Aruba&quot;</td><td>&quot;Latin America &amp; Caribbean&quot;</td></tr><tr><td>&quot;Afghanistan&quot;</td><td>&quot;South Asia&quot;</td></tr></tbody></table></div>"
            ]
          },
          "metadata": {},
          "execution_count": 19
        }
      ]
    },
    {
      "cell_type": "code",
      "source": [
        "df = pl.DataFrame({\n",
        "    \"grupo\": [\"A\", \"A\", \"B\", \"B\", \"C\"],\n",
        "    \"valor1\": [10, 15, 10, None, 25],\n",
        "    \"valor2\": [5, None, 20, 30, None]\n",
        "})\n",
        "df"
      ],
      "metadata": {
        "colab": {
          "base_uri": "https://localhost:8080/",
          "height": 255
        },
        "id": "X3AZReWlLrDg",
        "outputId": "197f301b-922c-445d-b18c-0b019be09647"
      },
      "execution_count": 8,
      "outputs": [
        {
          "output_type": "execute_result",
          "data": {
            "text/plain": [
              "shape: (5, 3)\n",
              "┌───────┬────────┬────────┐\n",
              "│ grupo ┆ valor1 ┆ valor2 │\n",
              "│ ---   ┆ ---    ┆ ---    │\n",
              "│ str   ┆ i64    ┆ i64    │\n",
              "╞═══════╪════════╪════════╡\n",
              "│ A     ┆ 10     ┆ 5      │\n",
              "│ A     ┆ 15     ┆ null   │\n",
              "│ B     ┆ 10     ┆ 20     │\n",
              "│ B     ┆ null   ┆ 30     │\n",
              "│ C     ┆ 25     ┆ null   │\n",
              "└───────┴────────┴────────┘"
            ],
            "text/html": [
              "<div><style>\n",
              ".dataframe > thead > tr,\n",
              ".dataframe > tbody > tr {\n",
              "  text-align: right;\n",
              "  white-space: pre-wrap;\n",
              "}\n",
              "</style>\n",
              "<small>shape: (5, 3)</small><table border=\"1\" class=\"dataframe\"><thead><tr><th>grupo</th><th>valor1</th><th>valor2</th></tr><tr><td>str</td><td>i64</td><td>i64</td></tr></thead><tbody><tr><td>&quot;A&quot;</td><td>10</td><td>5</td></tr><tr><td>&quot;A&quot;</td><td>15</td><td>null</td></tr><tr><td>&quot;B&quot;</td><td>10</td><td>20</td></tr><tr><td>&quot;B&quot;</td><td>null</td><td>30</td></tr><tr><td>&quot;C&quot;</td><td>25</td><td>null</td></tr></tbody></table></div>"
            ]
          },
          "metadata": {},
          "execution_count": 8
        }
      ]
    },
    {
      "cell_type": "code",
      "source": [
        "df[\"valor1\"]"
      ],
      "metadata": {
        "colab": {
          "base_uri": "https://localhost:8080/",
          "height": 255
        },
        "id": "vopIMJ82L9sl",
        "outputId": "dc52f9e6-7040-4c2f-af22-3c0c9372276a"
      },
      "execution_count": 9,
      "outputs": [
        {
          "output_type": "execute_result",
          "data": {
            "text/plain": [
              "shape: (5,)\n",
              "Series: 'valor1' [i64]\n",
              "[\n",
              "\t10\n",
              "\t15\n",
              "\t10\n",
              "\tnull\n",
              "\t25\n",
              "]"
            ],
            "text/html": [
              "<div><style>\n",
              ".dataframe > thead > tr,\n",
              ".dataframe > tbody > tr {\n",
              "  text-align: right;\n",
              "  white-space: pre-wrap;\n",
              "}\n",
              "</style>\n",
              "<small>shape: (5,)</small><table border=\"1\" class=\"dataframe\"><thead><tr><th>valor1</th></tr><tr><td>i64</td></tr></thead><tbody><tr><td>10</td></tr><tr><td>15</td></tr><tr><td>10</td></tr><tr><td>null</td></tr><tr><td>25</td></tr></tbody></table></div>"
            ]
          },
          "metadata": {},
          "execution_count": 9
        }
      ]
    },
    {
      "cell_type": "code",
      "source": [
        "df[\"valor1\"].mean()"
      ],
      "metadata": {
        "colab": {
          "base_uri": "https://localhost:8080/",
          "height": 0
        },
        "id": "doQVPnxLMBem",
        "outputId": "9b56796d-6ded-4278-f342-d715b0b00485"
      },
      "execution_count": 10,
      "outputs": [
        {
          "output_type": "execute_result",
          "data": {
            "text/plain": [
              "15.0"
            ]
          },
          "metadata": {},
          "execution_count": 10
        }
      ]
    },
    {
      "cell_type": "code",
      "source": [
        "df[\"valor1\"].drop_nulls()"
      ],
      "metadata": {
        "colab": {
          "base_uri": "https://localhost:8080/",
          "height": 224
        },
        "id": "iNL2de4UMDWd",
        "outputId": "3760daa4-1e29-466e-8fe1-72e69141c501"
      },
      "execution_count": 11,
      "outputs": [
        {
          "output_type": "execute_result",
          "data": {
            "text/plain": [
              "shape: (4,)\n",
              "Series: 'valor1' [i64]\n",
              "[\n",
              "\t10\n",
              "\t15\n",
              "\t10\n",
              "\t25\n",
              "]"
            ],
            "text/html": [
              "<div><style>\n",
              ".dataframe > thead > tr,\n",
              ".dataframe > tbody > tr {\n",
              "  text-align: right;\n",
              "  white-space: pre-wrap;\n",
              "}\n",
              "</style>\n",
              "<small>shape: (4,)</small><table border=\"1\" class=\"dataframe\"><thead><tr><th>valor1</th></tr><tr><td>i64</td></tr></thead><tbody><tr><td>10</td></tr><tr><td>15</td></tr><tr><td>10</td></tr><tr><td>25</td></tr></tbody></table></div>"
            ]
          },
          "metadata": {},
          "execution_count": 11
        }
      ]
    },
    {
      "cell_type": "code",
      "source": [
        "df[\"valor1\"].drop_nulls().mean()"
      ],
      "metadata": {
        "colab": {
          "base_uri": "https://localhost:8080/",
          "height": 0
        },
        "id": "-lGEP6bUMIOa",
        "outputId": "b7a464ba-11d6-4241-fb6c-ce990a1679c0"
      },
      "execution_count": 12,
      "outputs": [
        {
          "output_type": "execute_result",
          "data": {
            "text/plain": [
              "15.0"
            ]
          },
          "metadata": {},
          "execution_count": 12
        }
      ]
    },
    {
      "cell_type": "code",
      "source": [
        "df.select([\n",
        "  pl.col(\"valor1\").mean().alias(\"media_v1\"),\n",
        "  pl.col(\"valor2\").mean()\n",
        "])"
      ],
      "metadata": {
        "colab": {
          "base_uri": "https://localhost:8080/",
          "height": 129
        },
        "id": "LH4jiu2fMKJy",
        "outputId": "e64002ee-badf-4085-9352-a8d431784226"
      },
      "execution_count": 13,
      "outputs": [
        {
          "output_type": "execute_result",
          "data": {
            "text/plain": [
              "shape: (1, 2)\n",
              "┌──────────┬───────────┐\n",
              "│ media_v1 ┆ valor2    │\n",
              "│ ---      ┆ ---       │\n",
              "│ f64      ┆ f64       │\n",
              "╞══════════╪═══════════╡\n",
              "│ 15.0     ┆ 18.333333 │\n",
              "└──────────┴───────────┘"
            ],
            "text/html": [
              "<div><style>\n",
              ".dataframe > thead > tr,\n",
              ".dataframe > tbody > tr {\n",
              "  text-align: right;\n",
              "  white-space: pre-wrap;\n",
              "}\n",
              "</style>\n",
              "<small>shape: (1, 2)</small><table border=\"1\" class=\"dataframe\"><thead><tr><th>media_v1</th><th>valor2</th></tr><tr><td>f64</td><td>f64</td></tr></thead><tbody><tr><td>15.0</td><td>18.333333</td></tr></tbody></table></div>"
            ]
          },
          "metadata": {},
          "execution_count": 13
        }
      ]
    },
    {
      "cell_type": "code",
      "source": [
        "df.group_by(\"grupo\").agg([\n",
        "  pl.col(\"valor1\").mean().alias(\"media_valor1\"),\n",
        "  pl.col(\"valor2\").min().alias(\"min_valor2\")\n",
        "]).sort(\"grupo\")"
      ],
      "metadata": {
        "colab": {
          "base_uri": "https://localhost:8080/",
          "height": 192
        },
        "id": "FaDjiyIJMLMC",
        "outputId": "4979d38b-f29f-4e32-a3e4-eab1614895a8"
      },
      "execution_count": 14,
      "outputs": [
        {
          "output_type": "execute_result",
          "data": {
            "text/plain": [
              "shape: (3, 3)\n",
              "┌───────┬──────────────┬────────────┐\n",
              "│ grupo ┆ media_valor1 ┆ min_valor2 │\n",
              "│ ---   ┆ ---          ┆ ---        │\n",
              "│ str   ┆ f64          ┆ i64        │\n",
              "╞═══════╪══════════════╪════════════╡\n",
              "│ A     ┆ 12.5         ┆ 5          │\n",
              "│ B     ┆ 10.0         ┆ 20         │\n",
              "│ C     ┆ 25.0         ┆ null       │\n",
              "└───────┴──────────────┴────────────┘"
            ],
            "text/html": [
              "<div><style>\n",
              ".dataframe > thead > tr,\n",
              ".dataframe > tbody > tr {\n",
              "  text-align: right;\n",
              "  white-space: pre-wrap;\n",
              "}\n",
              "</style>\n",
              "<small>shape: (3, 3)</small><table border=\"1\" class=\"dataframe\"><thead><tr><th>grupo</th><th>media_valor1</th><th>min_valor2</th></tr><tr><td>str</td><td>f64</td><td>i64</td></tr></thead><tbody><tr><td>&quot;A&quot;</td><td>12.5</td><td>5</td></tr><tr><td>&quot;B&quot;</td><td>10.0</td><td>20</td></tr><tr><td>&quot;C&quot;</td><td>25.0</td><td>null</td></tr></tbody></table></div>"
            ]
          },
          "metadata": {},
          "execution_count": 14
        }
      ]
    },
    {
      "cell_type": "code",
      "source": [
        "voos = pl.read_csv(\"flights.csv\",\n",
        "                   columns = [\"AIRLINE\", \"ARRIVAL_DELAY\", \"DESTINATION_AIRPORT\"],\n",
        "                   dtypes = {\"AIRLINE\": pl.Utf8,\n",
        "                             \"ARRIVAL_DELAY\": pl.Int32,\n",
        "                             \"DESTINATION_AIRPORT\": pl.Utf8})\n",
        "voos.shape"
      ],
      "metadata": {
        "colab": {
          "base_uri": "https://localhost:8080/",
          "height": 0
        },
        "id": "uZeYh8XXNJQW",
        "outputId": "3faa9435-f246-430d-c128-84f9d789df5e"
      },
      "execution_count": 20,
      "outputs": [
        {
          "output_type": "stream",
          "name": "stderr",
          "text": [
            "/tmp/ipython-input-2284422991.py:1: DeprecationWarning: The argument `dtypes` for `read_csv` is deprecated. It has been renamed to `schema_overrides`.\n",
            "  voos = pl.read_csv(\"flights.csv\",\n"
          ]
        },
        {
          "output_type": "execute_result",
          "data": {
            "text/plain": [
              "(93070, 3)"
            ]
          },
          "metadata": {},
          "execution_count": 20
        }
      ]
    },
    {
      "cell_type": "code",
      "source": [
        "voos.head(3)"
      ],
      "metadata": {
        "colab": {
          "base_uri": "https://localhost:8080/",
          "height": 192
        },
        "id": "PRb88gNPNkfd",
        "outputId": "26484c07-9f5e-4517-d80d-22ccd034851a"
      },
      "execution_count": 21,
      "outputs": [
        {
          "output_type": "execute_result",
          "data": {
            "text/plain": [
              "shape: (3, 3)\n",
              "┌─────────┬─────────────────────┬───────────────┐\n",
              "│ AIRLINE ┆ DESTINATION_AIRPORT ┆ ARRIVAL_DELAY │\n",
              "│ ---     ┆ ---                 ┆ ---           │\n",
              "│ str     ┆ str                 ┆ i32           │\n",
              "╞═════════╪═════════════════════╪═══════════════╡\n",
              "│ AS      ┆ SEA                 ┆ -22           │\n",
              "│ AA      ┆ PBI                 ┆ -9            │\n",
              "│ US      ┆ CLT                 ┆ 5             │\n",
              "└─────────┴─────────────────────┴───────────────┘"
            ],
            "text/html": [
              "<div><style>\n",
              ".dataframe > thead > tr,\n",
              ".dataframe > tbody > tr {\n",
              "  text-align: right;\n",
              "  white-space: pre-wrap;\n",
              "}\n",
              "</style>\n",
              "<small>shape: (3, 3)</small><table border=\"1\" class=\"dataframe\"><thead><tr><th>AIRLINE</th><th>DESTINATION_AIRPORT</th><th>ARRIVAL_DELAY</th></tr><tr><td>str</td><td>str</td><td>i32</td></tr></thead><tbody><tr><td>&quot;AS&quot;</td><td>&quot;SEA&quot;</td><td>-22</td></tr><tr><td>&quot;AA&quot;</td><td>&quot;PBI&quot;</td><td>-9</td></tr><tr><td>&quot;US&quot;</td><td>&quot;CLT&quot;</td><td>5</td></tr></tbody></table></div>"
            ]
          },
          "metadata": {},
          "execution_count": 21
        }
      ]
    },
    {
      "cell_type": "code",
      "source": [
        "resultado = (\n",
        "  voos.drop_nulls([\"AIRLINE\", \"DESTINATION_AIRPORT\", \"ARRIVAL_DELAY\"])\n",
        "  .filter(\n",
        "    pl.col(\"AIRLINE\").is_in([\"AA\", \"DL\"]) &\n",
        "    pl.col(\"DESTINATION_AIRPORT\").is_in([\"SEA\", \"MIA\", \"BWI\"])\n",
        "    )\n",
        "    .group_by([\"AIRLINE\", \"DESTINATION_AIRPORT\"])\n",
        "    .agg([\n",
        "      (pl.col(\"ARRIVAL_DELAY\") > 30).mean().alias(\"atraso_medio\")\n",
        "      ])\n",
        ")\n",
        "resultado.sort(\"atraso_medio\")"
      ],
      "metadata": {
        "colab": {
          "base_uri": "https://localhost:8080/",
          "height": 286
        },
        "id": "fbEMkbsHNlpl",
        "outputId": "9552a1dd-3bd3-424e-d27e-e36de1417e0a"
      },
      "execution_count": 23,
      "outputs": [
        {
          "output_type": "execute_result",
          "data": {
            "text/plain": [
              "shape: (6, 3)\n",
              "┌─────────┬─────────────────────┬──────────────┐\n",
              "│ AIRLINE ┆ DESTINATION_AIRPORT ┆ atraso_medio │\n",
              "│ ---     ┆ ---                 ┆ ---          │\n",
              "│ str     ┆ str                 ┆ f64          │\n",
              "╞═════════╪═════════════════════╪══════════════╡\n",
              "│ DL      ┆ BWI                 ┆ 0.120879     │\n",
              "│ DL      ┆ MIA                 ┆ 0.168919     │\n",
              "│ DL      ┆ SEA                 ┆ 0.169312     │\n",
              "│ AA      ┆ BWI                 ┆ 0.195652     │\n",
              "│ AA      ┆ MIA                 ┆ 0.226119     │\n",
              "│ AA      ┆ SEA                 ┆ 0.373333     │\n",
              "└─────────┴─────────────────────┴──────────────┘"
            ],
            "text/html": [
              "<div><style>\n",
              ".dataframe > thead > tr,\n",
              ".dataframe > tbody > tr {\n",
              "  text-align: right;\n",
              "  white-space: pre-wrap;\n",
              "}\n",
              "</style>\n",
              "<small>shape: (6, 3)</small><table border=\"1\" class=\"dataframe\"><thead><tr><th>AIRLINE</th><th>DESTINATION_AIRPORT</th><th>atraso_medio</th></tr><tr><td>str</td><td>str</td><td>f64</td></tr></thead><tbody><tr><td>&quot;DL&quot;</td><td>&quot;BWI&quot;</td><td>0.120879</td></tr><tr><td>&quot;DL&quot;</td><td>&quot;MIA&quot;</td><td>0.168919</td></tr><tr><td>&quot;DL&quot;</td><td>&quot;SEA&quot;</td><td>0.169312</td></tr><tr><td>&quot;AA&quot;</td><td>&quot;BWI&quot;</td><td>0.195652</td></tr><tr><td>&quot;AA&quot;</td><td>&quot;MIA&quot;</td><td>0.226119</td></tr><tr><td>&quot;AA&quot;</td><td>&quot;SEA&quot;</td><td>0.373333</td></tr></tbody></table></div>"
            ]
          },
          "metadata": {},
          "execution_count": 23
        }
      ]
    },
    {
      "cell_type": "code",
      "source": [],
      "metadata": {
        "id": "FYmU73R6NzOl"
      },
      "execution_count": null,
      "outputs": []
    },
    {
      "cell_type": "code",
      "metadata": {
        "colab": {
          "base_uri": "https://localhost:8080/"
        },
        "id": "5d08c523",
        "outputId": "9f48c31c-23b9-4532-e587-3e009eecbbc8"
      },
      "source": [
        "from datetime import datetime\n",
        "import pytz\n",
        "\n",
        "# Define o fuso horário de Brasília\n",
        "brasilia_timezone = pytz.timezone('America/Sao_Paulo')\n",
        "\n",
        "# Obtém a data e hora atuais no fuso horário de Brasília\n",
        "now_brasilia = datetime.now(brasilia_timezone)\n",
        "\n",
        "# Imprime a data e hora\n",
        "print(now_brasilia.strftime('%Y-%m-%d %H:%M:%S %Z%z'))"
      ],
      "execution_count": 24,
      "outputs": [
        {
          "output_type": "stream",
          "name": "stdout",
          "text": [
            "2025-10-02 10:58:31 -03-0300\n"
          ]
        }
      ]
    }
  ]
}